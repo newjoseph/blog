{
  "cells": [
    {
      "cell_type": "markdown",
      "metadata": {},
      "source": [
        "---\n",
        "title: \"Python과 Slack API를 이용한 대나무숲 앱 제작\"\n",
        "author : \"Changwoo Lim\"\n",
        "description: |\n",
        "  Slack API를 이용하여 Python 기반 대나무숲 앱 만들기\n",
        "categories:\n",
        "  - python\n",
        "date: 02-07-2023\n",
        "image: img/2.png\n",
        "draft: false\n",
        "format:\n",
        "  html:\n",
        "    code-fold: false\n",
        "jupyter: python3\n",
        "number-sections: true\n",
        "---\n",
        "\n",
        "\n",
        "## Slack API(Bolt)를 사용해 대나무숲 앱을 제작한 후기\n",
        "\n",
        "### 개요\n",
        "\n",
        "직장 동료가 추천해준 [이 글](https://yozm.wishket.com/magazine/detail/1480/)을 보고, 우리 회사 Slack에도 대나무숲을 만들어 보았습니다. 원 글은 Node.js를 이용했지만, Javascript에 익숙하지 않아 Slack에서 제공하는 Python용 Bolt API를 사용했습니다.\n",
        "\n",
        "본 글을 읽기에 앞서, [Bolt Documentation](https://api.slack.com/tools/bolt)을 읽고 오시면 이해해 큰 도움이 됩니다.\n",
        "\n",
        "### 과정 - api.slack.com\n",
        "\n",
        "먼저, [Slack API](https://api.slack.com)에 접속하여, Create New App을 선택합니다. From Scratch를 선택한 후, App Name과 워크스페이스를 선택합니다. 저는 대나무숲 봇, Zarathu 워크스페이스를 선택했습니다.\n",
        "\n",
        "![](img/1.png){width=\"500\"}\n",
        "\n",
        "먼저, Incoming Webhooks에서, Incoming Webhooks를 활성화합니다.\n",
        "\n",
        "다음으로, Interactivity & Shortcuts에 들어가 Interactivity를 활성화시키고, Request URL을 본인의 ngrok주소 또는 실제 주소 + \"/slack/events\"(바뀌면 작동하지 않습니다.)로 설정합니다.\n",
        "\n",
        "아래의 Shortcuts에서, 두 가지를 추가합니다. 한 가지는 Global로(게시글 포스팅), 다른 한 가지는 On Messages로(댓글 포스팅) 합니다. Name, Short Description, Callback ID는 적당히 작성합니다.\n",
        "\n",
        "다음으로, OAuth & Permission에 들어가 아래의 Scopes에서, Bot Token Scopes에 필요한 권한을 추가합니다.\n",
        "\n",
        "1.  channels:history, read\n",
        "2.  chat: write, write.customize, write.public\n",
        "3.  commands\n",
        "4.  incoming-webhook\n",
        "\n",
        "그 후, 같은 페이지 상단에 보이는 Bot User OAuth Token이 자신의 Bot Token입니다.\n",
        "\n",
        "### 과정 - 코드\n",
        "\n",
        "파일 구조는 아래와 같습니다.\n",
        "\n",
        "    project\n",
        "    │   dockerfile\n",
        "    │   requirements.txt    \n",
        "    │   .env\n",
        "    │   .gitignore\n",
        "    │ \n",
        "    └───src\n",
        "    │   │   app.py\n",
        "    │   │   name.py\n",
        "    │   \n",
        "    └───.venv\n",
        "        │   ...\n",
        "\n",
        "먼저, Python 가상 환경을 만들기 위해 다음 명령어를 실행합니다. `python -m venv .venv`\n",
        "\n",
        "그리고, venv를 활성화 시킵니다. `source .venv/bin/activate (macOS)`\n",
        "\n",
        "이제 Python 가상 환경에 접속했습니다.\n",
        "\n",
        "먼저, Slack API 및 dotenv를 사용하기 위해 다음 명령어로 bolt와 dotenv를 설치합니다.\n",
        "\n",
        "\n",
        "```{pip install slack-bolt}\n",
        "pip install python-dotenv\n",
        "```\n",
        "\n",
        "\n",
        "`pip freeze`로 현재 설치된 pip 패키지를 조회 해 보면,\n",
        "\n",
        "    python-dotenv==0.21.0\n",
        "    slack-bolt==1.16.1\n",
        "    slack-sdk==3.19.5\n",
        "\n",
        "위와 같습니다. 버전은 설치 한 시점에 따라 다를 수 있습니다.\n",
        "\n",
        "시작하기에 앞서, 환경변수를 설정하도록 하겠습니다.\n",
        "\n",
        "프로젝트 루트의 .env 파일에\n",
        "\n",
        "    SLACK_SIGNING_SECRET=<자신의 Signing Secret>\n",
        "    SLACK_BOT_TOKEN=<자신의 Bot Token>\n",
        "    CHANNEL_NAME=대나무숲\n",
        "\n",
        "를 추가합니다.\n",
        "\n",
        "Signing Secret은 api.slack.com에서 자신의 앱을 선택한 후 Basic Information에 있는 Signing Secret 입니다.\n",
        "\n",
        "이제 실제로 코드를 만들어 보겠습니다. src/app,py를 생성합니다.\n"
      ],
      "id": "22723b6b"
    },
    {
      "cell_type": "code",
      "metadata": {},
      "source": [
        "#| eval: false\n",
        "import os\n",
        "from dotenv import load_dotenv\n",
        "load_dotenv(verbose=True)\n",
        "\n",
        "SLACK_SIGNING_SECRET = os.getenv('SLACK_SIGNING_SECRET')\n",
        "SLACK_BOT_TOKEN = os.getenv('SLACK_BOT_TOKEN')\n",
        "CHANNEL_NAME=os.getenv(\"CHANNEL_NAME\")"
      ],
      "id": "0bb6ef26",
      "execution_count": null,
      "outputs": []
    },
    {
      "cell_type": "markdown",
      "metadata": {},
      "source": [
        "로 dotenv 환경을 불러오고, 변수에 .env의 내용을 불러옵니다.\n",
        "\n",
        "다음으로,\n"
      ],
      "id": "6e6207e1"
    },
    {
      "cell_type": "code",
      "metadata": {},
      "source": [
        "#| eval: false\n",
        "import logging\n",
        "logging.basicConfig(level=logging.DEBUG)\n",
        "\n",
        "from slack_bolt import App\n",
        "from slack_sdk.errors import SlackApiError"
      ],
      "id": "4aecfe1a",
      "execution_count": null,
      "outputs": []
    },
    {
      "cell_type": "markdown",
      "metadata": {},
      "source": [
        "로 logging 기능과 Slack API를 불러옵니다. SlackApiError는 추후 Error Handling에 사용 될 에정입니다.\n"
      ],
      "id": "4bb32273"
    },
    {
      "cell_type": "code",
      "metadata": {},
      "source": [
        "#| eval: false\n",
        "app = App(\n",
        "    token=SLACK_BOT_TOKEN,\n",
        "    signing_secret=SLACK_SIGNING_SECRET\n",
        ")"
      ],
      "id": "22bbb105",
      "execution_count": null,
      "outputs": []
    },
    {
      "cell_type": "markdown",
      "metadata": {},
      "source": [
        "위 코드로, Slack API를 초기화합니다.\n",
        "\n",
        "Slack API는 Decorator를 통해 각각의 Action에 따른 기능을 수행합니다. FastAPI를 사용 한 경험에 비추어 설명 해 보면, 예를 들어 `@app.post(\"/\")`의 경우 \"/\"로 post 요청을 보낸 경우에 작동하는 것 처럼, `@app.shortcut(\"post\")`는 post라는 ID의 shortcut을 실행 한 경우에 작동합니다.\n",
        "\n",
        "우리는 Modal을 이용해 게시글과 답글을 작성할 수 있도록 할 것입니다. [Slack에서는 Modal을 쉽게 생성할 수 있는 도구](https://app.slack.com/block-kit-builder)를 제공하고 있습니다. 그 도구를 통해 Modal을 생성한 후, action_id와 text, callback_id, private_metadata 등을 수정하면 쉽게 우리가 원하는 Modal 창을 얻을 수 있습니다.\n",
        "\n",
        "저는 아래와 같이 했습니다.\n",
        "\n",
        "![](img/2.png){width=\"500\"}\n",
        "\n",
        "우리는 - \"reply\" action - \"port\" shortcut - \"reply\" shortcut 을 받은 경우 modal이 필요하므로 아래와 같은 Decorator를 작성합니다.\n"
      ],
      "id": "39dc1019"
    },
    {
      "cell_type": "code",
      "metadata": {},
      "source": [
        "#| eval: false\n",
        "@app.action(\"reply\")\n",
        "@app.shortcut(\"post\")\n",
        "@app.shortcut(\"reply\")\n",
        "def open_modal(ack, body, client, logger):\n",
        "  ..."
      ],
      "id": "3db2dd96",
      "execution_count": null,
      "outputs": []
    },
    {
      "cell_type": "markdown",
      "metadata": {},
      "source": [
        "Slack API는 요청을 받는 경우 `ack()`를 실행하도록 요청하고 있습니다. 그러므로, open_modal(...)이 호출되는 경우 `{{python}} ack()`가 실행되어야 합니다.\n"
      ],
      "id": "11a84b59"
    },
    {
      "cell_type": "code",
      "metadata": {},
      "source": [
        "#| eval: false\n",
        "def open_modal(ack, body, client, logger):\n",
        "  ack()"
      ],
      "id": "f29fade6",
      "execution_count": null,
      "outputs": []
    },
    {
      "cell_type": "markdown",
      "metadata": {},
      "source": [
        "다음으로, open_modal이 끝난 경우, 즉 유저가 Modal에 무엇인가를 입력하여 반환 된 경우를 보겠습니다. Modal이 닫히면, 그 내용을 대나무숲 봇이 #bambooforest 채널에 포스팅/댓글 작성 해야합니다. 이를 위해, Modal에 callback_id를 설정해야 합니다. 우리는 \"view_post\"라고 하겠습니다.\n"
      ],
      "id": "e537d64c"
    },
    {
      "cell_type": "code",
      "metadata": {},
      "source": [
        "#| eval: false\n",
        "def open_modal(ack, body, shortcut, client, logger, block_actions):\n",
        "    ack()\n",
        "    try:\n",
        "        try:\n",
        "            try:\n",
        "                message_ts=body['message_ts']\n",
        "            except:\n",
        "                message_ts=body['container']['message_ts']\n",
        "        except:\n",
        "            message_ts=\"\" # Global의 경우 message_ts가 없음\n",
        "        result = client.views_open(\n",
        "            trigger_id=body[\"trigger_id\"],\n",
        "            view={\n",
        "                # View 위 내용 생략\n",
        "                \"callback_id\": \"view_post\",\n",
        "                \"private_metadata\": message_ts\n",
        "            }\n",
        "        )\n",
        "        logger.info(result)\n",
        "    except SlackApiError as e:\n",
        "        logger.error(\"Error creating conversation: {}\".format(e))"
      ],
      "id": "e2c0da56",
      "execution_count": null,
      "outputs": []
    },
    {
      "cell_type": "markdown",
      "metadata": {},
      "source": [
        "그러면 위 \"view_post\" 콜백를 처리할 수 있는 함수를 만들어 보겠습니다. 마찬가지로 Decorator을 사용합니다.\n"
      ],
      "id": "c3268de9"
    },
    {
      "cell_type": "code",
      "metadata": {},
      "source": [
        "#| eval: false\n",
        "@app.view(\"view_post\")\n",
        "def handle_submission(ack, body, client, view, logger):\n",
        "  ack()\n",
        "  logger.info(body)\n",
        "  message_ts=view['private_metadata']\n",
        "  content=view['state']['values']['post_input_block']['post_content_input']['value']\n",
        "  username=view[\"state\"][\"values\"][\"name_input_block\"][\"name_input\"]['value']"
      ],
      "id": "50377694",
      "execution_count": null,
      "outputs": []
    },
    {
      "cell_type": "markdown",
      "metadata": {},
      "source": [
        "\"view_post\" 콜백이 실행된 경우, ack() 하고 body를 logging 합니다. 이후, 복잡한 경로에 있는 값을 접근하기 쉽도록 값을 변수에 대입합니다. 우리는 message_ts를 private_metadata로 전달했습니다. 또, content와 username의 값은 view\\[\"state\"\\]\\[\"values\"\\]의 \\['post_input_block'\\]\\['post_content_input'\\]\\['value'\\] 및 \\[\"name_input_block\"\\]\\[\"name_input\"\\]\\['value'\\]에 존재합니다.\n",
        "\n",
        "익명 게시판이므로, Username을 작성하지 않은 경우가 많을 것입니다. 이 경우, 아래에서 만들 username() 함수를 통해 랜덤한 username을 생성합니다. 또한, 게시글의 경우 message_ts 값이 없습니다(위에서 \"\"를 대입합니다). 경우에 따라 type=\"게시글\" 또는 type=\"댓글\"을 저장합니다.\n"
      ],
      "id": "bcdb2698"
    },
    {
      "cell_type": "code",
      "metadata": {},
      "source": [
        "#| eval: false\n",
        "if username is None:\n",
        "  username=randname()\n",
        "\n",
        "if message_ts == \"\":\n",
        "  type=\"게시글\"\n",
        "else:\n",
        "  type=\"댓글\""
      ],
      "id": "72cb419f",
      "execution_count": null,
      "outputs": []
    },
    {
      "cell_type": "markdown",
      "metadata": {},
      "source": [
        "위에서 정리된 내용을 바탕으로 메시지를 발송합니다. message_ts가 있으면(즉 댓글이면) 메시지를 해당 thread에, 아니면 .env에서 지정한 채널에 발송합니다.\n"
      ],
      "id": "1d9762b6"
    },
    {
      "cell_type": "code",
      "metadata": {},
      "source": [
        "#| eval: false\n",
        "send_message=[\n",
        "  {\n",
        "    \"type\": \"header\",\n",
        "    \"text\": {\n",
        "      \"type\": \"plain_text\",\n",
        "      \"text\": \":bamboo: 익명 메시지 :bamboo:\"\n",
        "      }\n",
        "  },\n",
        "  {\n",
        "    \"type\": \"divider\"\n",
        "  },\n",
        "  {\n",
        "    \"type\": \"section\",\n",
        "    \"text\": {\n",
        "      \"type\": \"mrkdwn\",\n",
        "      \"text\": f\"*{username}님의 {type}입니다.*\"\n",
        "      }\n",
        "  },\n",
        "  {\n",
        "    \"type\": \"section\",\n",
        "    \"text\": {\n",
        "      \"type\": \"plain_text\",\n",
        "      \"text\": f\"{content}\"\n",
        "  },\n",
        "  \"accessory\": {\n",
        "      \"type\": \"button\",\n",
        "      \"action_id\": \"reply\",\n",
        "      \"text\": {\n",
        "        \"type\": \"plain_text\",\n",
        "        \"text\": \"댓글 달기\",\n",
        "        \"emoji\": True\n",
        "      }\n",
        "    }\n",
        "  }\n",
        "]\n",
        "\n",
        "if message_ts == \"\":\n",
        "    client.chat_postMessage(channel=CHANNEL_NAME, blocks=send_message)\n",
        "else: \n",
        "    client.chat_postMessage(channel=CHANNEL_NAME, thread_ts=message_ts, blocks=send_message)"
      ],
      "id": "778b381f",
      "execution_count": null,
      "outputs": []
    },
    {
      "cell_type": "markdown",
      "metadata": {},
      "source": [
        "src/name.py는 다음과 같습니다.\n"
      ],
      "id": "a41182c3"
    },
    {
      "cell_type": "code",
      "metadata": {},
      "source": [
        "#| eval: false\n",
        "import random\n",
        "\n",
        "firstNames = [\n",
        "  \"깔끔한\",\n",
        "  \"근면한\",\n",
        "#  ...\n",
        "]\n",
        "\n",
        "lastNames = [\n",
        "  \"토끼\",\n",
        "  \"오리\",\n",
        "#  ...\n",
        "]\n",
        "\n",
        "def randname():\n",
        "    return firstNames[random.randint(0, len(firstNames)-1)] + \" \" + lastNames[random.randint(0, len(lastNames)-1)]"
      ],
      "id": "0b30a1b2",
      "execution_count": null,
      "outputs": []
    },
    {
      "cell_type": "markdown",
      "metadata": {},
      "source": [
        "randname()은 firstNames와 lastNames의 원소를 각각 랜덤으로 추출하여 합쳐 반환하는 함수입니다.\n",
        "\n",
        "> 위 firstNames, lastNames는 [이 글](https://yozm.wishket.com/magazine/detail/1480/)의 GitHub 저장소를 참조하였습니다.\n",
        "\n",
        "src/app.py 상단에\n"
      ],
      "id": "709601a3"
    },
    {
      "cell_type": "code",
      "metadata": {},
      "source": [
        "#| eval: false\n",
        "from name import randname"
      ],
      "id": "c5ee355e",
      "execution_count": null,
      "outputs": []
    },
    {
      "cell_type": "markdown",
      "metadata": {},
      "source": [
        "을 추가합니다.\n",
        "\n",
        "마지막으로, src/app.py 마지막에\n"
      ],
      "id": "64308c5c"
    },
    {
      "cell_type": "code",
      "metadata": {},
      "source": [
        "#| eval: false\n",
        "if __name__ == \"__main__\":\n",
        "  app.start(3000)"
      ],
      "id": "e0bb5b43",
      "execution_count": null,
      "outputs": []
    },
    {
      "cell_type": "markdown",
      "metadata": {},
      "source": [
        "을 추가하고, 서버에서 python3 src/app.py를 실행하면 정상적으로 작동하는 것을 알 수 있습니다.\n",
        "\n",
        "### 후기\n",
        "\n",
        "생각보다 Slack API Documentation이 충실하고, 회사에서 서버도 자유롭게 사용하도록 허용해주고 있어 쉽게 구현할 수 있었습니다. 실제로는 Docker를 사용하여 회사 서버에서 사용하고 있습니다. 테스트 목적으로는 [https://ngrok.com](ngrok)을 사용하면 쉽게 테스트 할 수 있습니다.\n",
        "\n",
        "다만, 한 달 정도 대나무숲을 사용 해 본 결과 실질적으로 수십 명 정도의 조직이어야 제대로 사용할 수 있을 것이라는 생각이 들었습니다.\n",
        "\n",
        "전체 코드는 [링크](https://github.com/zarathucorp/slack-bambooforest)에서 확인하실 수 있습니다.(글과 일부 바뀌었을 수 있음.)"
      ],
      "id": "37a38ee4"
    }
  ],
  "metadata": {
    "kernelspec": {
      "display_name": "Python 3",
      "language": "python",
      "name": "python3"
    }
  },
  "nbformat": 4,
  "nbformat_minor": 5
}